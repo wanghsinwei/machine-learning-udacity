{
 "cells": [
  {
   "cell_type": "markdown",
   "metadata": {
    "colab_type": "text",
    "id": "ERnzSfFRwiM9"
   },
   "source": [
    "# Project: Train a Quadcopter How to Fly\n",
    "\n",
    "Design an agent to fly a quadcopter, and then train it using a reinforcement learning algorithm of your choice! \n",
    "\n",
    "Try to apply the techniques you have learnt, but also feel free to come up with innovative ideas and test them."
   ]
  },
  {
   "cell_type": "code",
   "execution_count": null,
   "metadata": {
    "colab": {
     "base_uri": "https://localhost:8080/",
     "height": 122
    },
    "colab_type": "code",
    "executionInfo": {
     "elapsed": 24511,
     "status": "ok",
     "timestamp": 1559929123585,
     "user": {
      "displayName": "Hsin-Wei Wang",
      "photoUrl": "",
      "userId": "13772944166444182143"
     },
     "user_tz": -480
    },
    "id": "BrUYuaKjwiM_",
    "outputId": "e11112d3-3ee8-4ee5-8652-e8afce213e24"
   },
   "outputs": [],
   "source": [
    "# Run this cell to mount Google Drive for Colab\n",
    "from google.colab import drive\n",
    "drive.mount('/content/drive/')\n",
    "# !ls \"/content/drive/My Drive/\"http://localhost:8888/notebooks/Quadcopter_Project.ipynb#\n",
    "\n",
    "import os\n",
    "os.chdir('/content/drive/My Drive/Colab Notebooks/RL-Quadcopter-2')"
   ]
  },
  {
   "cell_type": "code",
   "execution_count": null,
   "metadata": {
    "colab": {
     "base_uri": "https://localhost:8080/",
     "height": 17
    },
    "colab_type": "code",
    "executionInfo": {
     "elapsed": 3693,
     "status": "ok",
     "timestamp": 1559929130398,
     "user": {
      "displayName": "Hsin-Wei Wang",
      "photoUrl": "",
      "userId": "13772944166444182143"
     },
     "user_tz": -480
    },
    "id": "i4r8SCbJwiND",
    "outputId": "a7553de1-3f3b-4e24-e509-a69c2bec5174"
   },
   "outputs": [],
   "source": [
    "import matplotlib.pyplot as plt\n",
    "import visuals\n",
    "\n",
    "%load_ext autoreload\n",
    "%autoreload 2\n",
    "%matplotlib inline"
   ]
  },
  {
   "cell_type": "markdown",
   "metadata": {
    "colab_type": "text",
    "id": "RRts6qeKwiNO"
   },
   "source": [
    "## Instructions\n",
    "\n",
    "Take a look at the files in the directory to better understand the structure of the project. \n",
    "\n",
    "- `task.py`: Define your task (environment) in this file.\n",
    "- `agents/`: Folder containing reinforcement learning agents.\n",
    "    - `policy_search.py`: A sample agent has been provided here.\n",
    "    - `agent.py`: Develop your agent here.\n",
    "- `physics_sim.py`: This file contains the simulator for the quadcopter.  **DO NOT MODIFY THIS FILE**.\n",
    "\n",
    "For this project, you will define your own task in `task.py`.  Although we have provided a example task to get you started, you are encouraged to change it.  Later in this notebook, you will learn more about how to amend this file.\n",
    "\n",
    "You will also design a reinforcement learning agent in `agent.py` to complete your chosen task.  \n",
    "\n",
    "You are welcome to create any additional files to help you to organize your code.  For instance, you may find it useful to define a `model.py` file defining any needed neural network architectures.\n",
    "\n",
    "## Controlling the Quadcopter\n",
    "\n",
    "We provide a sample agent in the code cell below to show you how to use the sim to control the quadcopter.  This agent is even simpler than the sample agent that you'll examine (in `agents/policy_search.py`) later in this notebook!\n",
    "\n",
    "The agent controls the quadcopter by setting the revolutions per second on each of its four rotors.  The provided agent in the `Basic_Agent` class below always selects a random action for each of the four rotors.  These four speeds are returned by the `act` method as a list of four floating-point numbers.  \n",
    "\n",
    "For this project, the agent that you will implement in `agents/agent.py` will have a far more intelligent method for selecting actions!"
   ]
  },
  {
   "cell_type": "code",
   "execution_count": 0,
   "metadata": {
    "colab": {},
    "colab_type": "code",
    "id": "MyfPLH00wiNP"
   },
   "outputs": [],
   "source": [
    "import random\n",
    "\n",
    "class Basic_Agent():\n",
    "    def __init__(self, task):\n",
    "        self.task = task\n",
    "    \n",
    "    def act(self):\n",
    "        new_thrust = random.gauss(450., 25.)\n",
    "        return [new_thrust + random.gauss(0., 1.) for x in range(4)]"
   ]
  },
  {
   "cell_type": "markdown",
   "metadata": {
    "colab_type": "text",
    "id": "jcNzhKdCwiNR"
   },
   "source": [
    "Run the code cell below to have the agent select actions to control the quadcopter.  \n",
    "\n",
    "Feel free to change the provided values of `runtime`, `init_pose`, `init_velocities`, and `init_angle_velocities` below to change the starting conditions of the quadcopter.\n",
    "\n",
    "The `labels` list below annotates statistics that are saved while running the simulation.  All of this information is saved in a text file `data.txt` and stored in the dictionary `results`.  "
   ]
  },
  {
   "cell_type": "code",
   "execution_count": 0,
   "metadata": {
    "colab": {},
    "colab_type": "code",
    "id": "QEZ1DyL5wiNS",
    "outputId": "562b50c2-4965-4a7d-ca1e-49b5892f876b"
   },
   "outputs": [
    {
     "data": {
      "text/html": [
       "        <script type=\"text/javascript\">\n",
       "        window.PlotlyConfig = {MathJaxConfig: 'local'};\n",
       "        if (window.MathJax) {MathJax.Hub.Config({SVG: {font: \"STIX-Web\"}});}\n",
       "        if (typeof require !== 'undefined') {\n",
       "        require.undef(\"plotly\");\n",
       "        requirejs.config({\n",
       "            paths: {\n",
       "                'plotly': ['https://cdn.plot.ly/plotly-latest.min']\n",
       "            }\n",
       "        });\n",
       "        require(['plotly'], function(Plotly) {\n",
       "            window._Plotly = Plotly;\n",
       "        });\n",
       "        }\n",
       "        </script>\n",
       "        "
      ]
     },
     "metadata": {
      "tags": []
     },
     "output_type": "display_data"
    }
   ],
   "source": [
    "import csv\n",
    "import numpy as np\n",
    "from tasks.task import Task\n",
    "\n",
    "# Modify the values below to give the quadcopter a different starting position.\n",
    "runtime = 5.                                     # time limit of the episode\n",
    "init_pose = np.array([0., 0., 10., 0., 0., 0.])  # initial pose\n",
    "init_velocities = np.array([0., 0., 0.])         # initial velocities\n",
    "init_angle_velocities = np.array([0., 0., 0.])   # initial angle velocities\n",
    "file_output = 'BasicAgent_History.csv'           # file name for saved results\n",
    "\n",
    "# Setup\n",
    "task = Task(init_pose, init_velocities, init_angle_velocities, runtime)\n",
    "agent = Basic_Agent(task)\n",
    "done = False\n",
    "labels = ['time', 'x', 'y', 'z', 'phi', 'theta', 'psi', 'x_velocity',\n",
    "          'y_velocity', 'z_velocity', 'phi_velocity', 'theta_velocity',\n",
    "          'psi_velocity', 'rotor_speed1', 'rotor_speed2', 'rotor_speed3', 'rotor_speed4']\n",
    "results = {x : [] for x in labels}\n",
    "\n",
    "# Run the simulation, and save the results.\n",
    "with open(file_output, 'w', newline='') as csvfile:\n",
    "    writer = csv.writer(csvfile)\n",
    "    writer.writerow(labels)\n",
    "    while True:\n",
    "        rotor_speeds = agent.act()\n",
    "        _, _, done = task.step(rotor_speeds)\n",
    "        to_write = [task.sim.time] + list(task.sim.pose) + list(task.sim.v) + list(task.sim.angular_v) + list(rotor_speeds)\n",
    "        for ii in range(len(labels)):\n",
    "            results[labels[ii]].append(to_write[ii])\n",
    "        writer.writerow(to_write)\n",
    "        if done:\n",
    "            break"
   ]
  },
  {
   "cell_type": "markdown",
   "metadata": {
    "colab_type": "text",
    "id": "ksVIU32RwiNW"
   },
   "source": [
    "Run the code cell below to visualize how the **position** and **velocity** of the quadcopter evolved during the simulation."
   ]
  },
  {
   "cell_type": "code",
   "execution_count": 0,
   "metadata": {
    "colab": {},
    "colab_type": "code",
    "id": "0GkmmfZDBJ-0",
    "outputId": "ab1213eb-8c86-4ff3-e600-dc6d65ed0a39"
   },
   "outputs": [
    {
     "data": {
      "text/html": [
       "        <script type=\"text/javascript\">\n",
       "        window.PlotlyConfig = {MathJaxConfig: 'local'};\n",
       "        if (window.MathJax) {MathJax.Hub.Config({SVG: {font: \"STIX-Web\"}});}\n",
       "        if (typeof require !== 'undefined') {\n",
       "        require.undef(\"plotly\");\n",
       "        requirejs.config({\n",
       "            paths: {\n",
       "                'plotly': ['https://cdn.plot.ly/plotly-latest.min']\n",
       "            }\n",
       "        });\n",
       "        require(['plotly'], function(Plotly) {\n",
       "            window._Plotly = Plotly;\n",
       "        });\n",
       "        }\n",
       "        </script>\n",
       "        "
      ]
     },
     "metadata": {
      "tags": []
     },
     "output_type": "display_data"
    },
    {
     "data": {
      "image/png": "[encoded data removed]",
      "text/plain": [
       "<Figure size 720x720 with 2 Axes>"
      ]
     },
     "metadata": {
      "tags": []
     },
     "output_type": "display_data"
    }
   ],
   "source": [
    "visuals.plot_position(file_output, size=(10, 10))"
   ]
  },
  {
   "cell_type": "markdown",
   "metadata": {
    "colab_type": "text",
    "id": "-soqpxTQwiNj"
   },
   "source": [
    "Next, you can plot the Euler angles (the rotation of the quadcopter over the $x$-, $y$-, and $z$-axes) and the velocities (in radians per second) corresponding to each of the Euler angles."
   ]
  },
  {
   "cell_type": "code",
   "execution_count": 0,
   "metadata": {
    "colab": {},
    "colab_type": "code",
    "id": "u53faKT3wiNj",
    "outputId": "132c3c26-050f-460b-e879-8ae2d4fc8861"
   },
   "outputs": [
    {
     "data": {
      "image/png": "[encoded data removed]",
      "text/plain": [
       "<Figure size 720x720 with 2 Axes>"
      ]
     },
     "metadata": {
      "tags": []
     },
     "output_type": "display_data"
    }
   ],
   "source": [
    "visuals.plot_euler_angle(file_output, size=(10, 10))"
   ]
  },
  {
   "cell_type": "markdown",
   "metadata": {
    "colab_type": "text",
    "id": "5XVUHCy-wiNt"
   },
   "source": [
    "Finally, you can use the code cell below to print the agent's choice of actions.  "
   ]
  },
  {
   "cell_type": "code",
   "execution_count": 0,
   "metadata": {
    "colab": {},
    "colab_type": "code",
    "id": "B51ouMxSBJ_M",
    "outputId": "d0d481d6-de37-4cfa-b340-4606fc2b9a23"
   },
   "outputs": [
    {
     "data": {
      "text/html": [
       "        <script type=\"text/javascript\">\n",
       "        window.PlotlyConfig = {MathJaxConfig: 'local'};\n",
       "        if (window.MathJax) {MathJax.Hub.Config({SVG: {font: \"STIX-Web\"}});}\n",
       "        if (typeof require !== 'undefined') {\n",
       "        require.undef(\"plotly\");\n",
       "        requirejs.config({\n",
       "            paths: {\n",
       "                'plotly': ['https://cdn.plot.ly/plotly-latest.min']\n",
       "            }\n",
       "        });\n",
       "        require(['plotly'], function(Plotly) {\n",
       "            window._Plotly = Plotly;\n",
       "        });\n",
       "        }\n",
       "        </script>\n",
       "        "
      ]
     },
     "metadata": {
      "tags": []
     },
     "output_type": "display_data"
    },
    {
     "data": {
      "image/png": "[encoded data removed]",
      "text/plain": [
       "<Figure size 720x360 with 1 Axes>"
      ]
     },
     "metadata": {
      "tags": []
     },
     "output_type": "display_data"
    }
   ],
   "source": [
    "visuals.plot_rotor_speed(file_output, size=(10, 5))"
   ]
  },
  {
   "cell_type": "markdown",
   "metadata": {
    "colab_type": "text",
    "id": "32eA2T7iwiN4"
   },
   "source": [
    "When specifying a task, you will derive the environment state from the simulator.  Run the code cell below to print the values of the following variables at the end of the simulation:\n",
    "- `task.sim.pose` (the position of the quadcopter in ($x,y,z$) dimensions and the Euler angles),\n",
    "- `task.sim.v` (the velocity of the quadcopter in ($x,y,z$) dimensions), and\n",
    "- `task.sim.angular_v` (radians/second for each of the three Euler angles)."
   ]
  },
  {
   "cell_type": "code",
   "execution_count": 0,
   "metadata": {
    "colab": {},
    "colab_type": "code",
    "id": "YOs-IcmewiN7",
    "outputId": "86643af0-958c-4c33-e578-5914e9ce3189"
   },
   "outputs": [
    {
     "name": "stdout",
     "output_type": "stream",
     "text": [
      "[-6.9994045   2.66047426 28.34535746  0.03419123  0.40229795  0.        ]\n",
      "[-5.52156787  2.0542151   4.98641309]\n",
      "[-0.05555936  0.20116559  0.        ]\n"
     ]
    }
   ],
   "source": [
    "# the pose, velocity, and angular velocity of the quadcopter at the end of the episode\n",
    "print(task.sim.pose)\n",
    "print(task.sim.v)\n",
    "print(task.sim.angular_v)"
   ]
  },
  {
   "cell_type": "markdown",
   "metadata": {
    "colab_type": "text",
    "id": "piJP8bfrwiOC"
   },
   "source": [
    "In the sample task in `task.py`, we use the 6-dimensional pose of the quadcopter to construct the state of the environment at each timestep.  However, when amending the task for your purposes, **you are welcome to expand the size of the state vector by including the velocity information**.  You can use any combination of the pose, velocity, and angular velocity - feel free to tinker here, and construct the state to suit your task.\n",
    "\n",
    "## The Task\n",
    "\n",
    "A sample task has been provided for you in `task.py`.  Open this file in a new window now. \n",
    "\n",
    "The `__init__()` method is used to initialize several variables that are needed to specify the task.  \n",
    "- The simulator is initialized as an instance of the `PhysicsSim` class (from `physics_sim.py`).  \n",
    "- Inspired by the methodology in the original DDPG paper, we make use of action repeats.  For each timestep of the agent, we step the simulation `action_repeats` timesteps.  If you are not familiar with action repeats, please read the **Results** section in [the DDPG paper](https://arxiv.org/abs/1509.02971).\n",
    "- We set the number of elements in the state vector.  For the sample task, we only work with the 6-dimensional pose information.  To set the size of the state (`state_size`), we must take action repeats into account.  \n",
    "- The environment will always have a 4-dimensional action space, with one entry for each rotor (`action_size=4`). You can set the minimum (`action_low`) and maximum (`action_high`) values of each entry here.\n",
    "- The sample task in this provided file is for the agent to reach a target position.  We specify that target position as a variable.\n",
    "\n",
    "The `reset()` method resets the simulator.  The agent should call this method every time the episode ends.  You can see an example of this in the code cell below.\n",
    "\n",
    "The `step()` method is perhaps the most important.  It accepts the agent's choice of action `rotor_speeds`, which is used to prepare the next state to pass on to the agent.  Then, the reward is computed from `get_reward()`.  The episode is considered **done** if the **time limit** has been exceeded, or the quadcopter has travelled **outside of the bounds** of the simulation.\n",
    "\n",
    "In the next section, you will learn how to test the performance of an agent on this task."
   ]
  },
  {
   "cell_type": "markdown",
   "metadata": {
    "colab_type": "text",
    "id": "avr6uB1TwiOE"
   },
   "source": [
    "## The Agent\n",
    "\n",
    "The sample agent given in `agents/policy_search.py` uses a very simplistic linear policy to directly compute the action vector as a dot product of the state vector and a matrix of weights. Then, it randomly perturbs the parameters by adding some Gaussian noise, to produce a different policy. Based on the average reward obtained in each episode (`score`), it keeps track of the best set of parameters found so far, how the score is changing, and accordingly tweaks a scaling factor to widen or tighten the noise.\n",
    "\n",
    "Run the code cell below to see how the agent performs on the sample task."
   ]
  },
  {
   "cell_type": "code",
   "execution_count": 0,
   "metadata": {
    "colab": {},
    "colab_type": "code",
    "id": "urzkiV73wiOE",
    "outputId": "d3a43321-21f9-4a8d-b443-527ca2626884"
   },
   "outputs": [
    {
     "name": "stdout",
     "output_type": "stream",
     "text": [
      "Episode = 1000, score =  -3.028 (best =   0.469), noise_scale = 3.25"
     ]
    }
   ],
   "source": [
    "import sys\n",
    "import numpy as np\n",
    "import pandas as pd\n",
    "from agents.policy_search import PolicySearch_Agent\n",
    "from tasks.task import Task\n",
    "\n",
    "num_episodes = 1000\n",
    "target_pos = np.array([0., 0., 10.])\n",
    "task = Task(target_pos=target_pos)\n",
    "agent = PolicySearch_Agent(task)\n",
    "\n",
    "for i_episode in range(1, num_episodes+1):\n",
    "    state = agent.reset_episode() # start a new episode\n",
    "    while True:\n",
    "        action = agent.act(state)\n",
    "        next_state, reward, done = task.step(action)\n",
    "        agent.step(reward, done)\n",
    "        state = next_state\n",
    "        if done:\n",
    "            print(\"\\rEpisode = {:4d}, score = {:7.3f} (best = {:7.3f}), noise_scale = {}\".format(\n",
    "                i_episode, agent.score, agent.best_score, agent.noise_scale), end=\"\")  # [debug]\n",
    "            break\n",
    "    sys.stdout.flush()"
   ]
  },
  {
   "cell_type": "code",
   "execution_count": 0,
   "metadata": {
    "colab": {},
    "colab_type": "code",
    "id": "G4H_ic8pwiOT",
    "outputId": "d0e584df-be18-4b38-d447-77b6de4fad3f"
   },
   "outputs": [
    {
     "name": "stdout",
     "output_type": "stream",
     "text": [
      "score =  -3.028, noise_scale = 3.2\n"
     ]
    }
   ],
   "source": [
    "import csv\n",
    "\n",
    "labels = ['time', 'x', 'y', 'z', 'phi', 'theta', 'psi', 'x_velocity',\n",
    "          'y_velocity', 'z_velocity', 'phi_velocity', 'theta_velocity',\n",
    "          'psi_velocity', 'rotor_speed1', 'rotor_speed2', 'rotor_speed3', 'rotor_speed4',\n",
    "          'reward']\n",
    "\n",
    "file_history = 'PolicySearch_Agent_History.csv'\n",
    "\n",
    "# Run the simulation, and save the results.\n",
    "state = agent.reset_episode()\n",
    "with open(file_history, 'w', newline='') as csvfile:\n",
    "    writer = csv.writer(csvfile)\n",
    "    writer.writerow(labels)\n",
    "    writer.writerow([task.sim.time] + list(task.sim.pose) + list(task.sim.v) + list(task.sim.angular_v) + list(action) + [reward])\n",
    "    while True:\n",
    "        action = agent.act(state) \n",
    "        next_state, reward, done = task.step(action)\n",
    "        writer.writerow([task.sim.time] + list(task.sim.pose) + list(task.sim.v) + list(task.sim.angular_v) + list(action) + [reward])\n",
    "        state = next_state\n",
    "        if done:\n",
    "            print(\"score = {:7.3f}, noise_scale = {}\".format(agent.score, agent.noise_scale))\n",
    "            break"
   ]
  },
  {
   "cell_type": "markdown",
   "metadata": {
    "colab_type": "text",
    "id": "xCAIyaAjBJ_n"
   },
   "source": [
    "### 3D Trajectory for Policy Search Agent\n",
    "\n",
    "* <font color='blue'>Blue mark</font> represnets the start point\n",
    "* <font color='red'>Red mark</font> represnets the end point"
   ]
  },
  {
   "cell_type": "markdown",
   "metadata": {},
   "source": [
    "<a href=\"imgs/PolicySearch_Agent_History.png\" target=\"_blank\"><img src=\"imgs/PolicySearch_Agent_History.png\" alt=\"PolicySearch 3D Trajectory\" title=\"PolicySearch 3D Trajectory\"></a>"
   ]
  },
  {
   "cell_type": "code",
   "execution_count": 8,
   "metadata": {
    "colab": {},
    "colab_type": "code",
    "id": "vYnxXSvLwiOY",
    "outputId": "f929fe5f-0f86-453d-c2a8-e34f2299fc24"
   },
   "outputs": [
    {
     "data": {
      "application/vnd.plotly.v1+json": {
       "config": {
        "linkText": "Export to plot.ly",
        "plotlyServerURL": "https://plot.ly",
        "responsive": true,
        "showLink": false
       },
       "data": [
        {
         "line": {
          "color": "#000000",
          "width": 1
         },
         "marker": {
          "color": [
           0,
           0.06,
           0.12,
           0.18,
           0.24,
           0.3,
           0.36000000000000004,
           0.4200000000000001,
           0.4800000000000002,
           0.5400000000000001,
           0.6000000000000002,
           0.6600000000000003,
           0.7200000000000003,
           0.7800000000000004,
           0.8400000000000004,
           0.9000000000000005,
           0.9600000000000004,
           1.0200000000000005,
           1.0800000000000003,
           1.1400000000000006,
           1.2000000000000006,
           1.260000000000001,
           1.3200000000000007,
           1.3800000000000008,
           1.4400000000000008,
           1.5000000000000009,
           1.560000000000001
          ],
          "colorscale": "Portland",
          "size": 4
         },
         "type": "scatter3d",
         "uid": "089b7b1b-d431-4d50-be58-2fdbb6c3868e",
         "x": [
          0,
          -0.0003730391518416838,
          -0.0036958957695338774,
          -0.012142304182241895,
          -0.024381047128342742,
          -0.036622074177200335,
          -0.051285910563990345,
          -0.061333042687421936,
          -0.05562053741355881,
          -0.06539151560885607,
          -0.1111688518488271,
          -0.18827158509327596,
          -0.2870336763407687,
          -0.3983164013173826,
          -0.5150859633901,
          -0.6327138690003169,
          -0.7489341099958399,
          -0.8611255037269255,
          -0.96398171045739,
          -1.0623268398711314,
          -1.1649332118621567,
          -1.2658234669463018,
          -1.3665165622829236,
          -1.4711913591450712,
          -1.5677597336245988,
          -1.6586127798096892,
          -1.750385128944214
         ],
         "y": [
          0,
          0.00477892444223547,
          0.04494608579722472,
          0.13605487132137145,
          0.2769390437950892,
          0.452780442381825,
          0.6449040548428243,
          0.8342074996924713,
          1.0341704525477338,
          1.2586035269942868,
          1.4974277885659175,
          1.7324928220224949,
          1.9551752259091573,
          2.163336870292773,
          2.3587951015954625,
          2.5457209353178283,
          2.7287216633467724,
          2.910879754806792,
          3.096609909099585,
          3.2890435791026187,
          3.4813520384331937,
          3.6734022527584687,
          3.8727048160711615,
          4.0771164609977895,
          4.284250275676933,
          4.493643916981901,
          4.710168522106335
         ],
         "z": [
          10,
          10.007201185565233,
          10.012440866854343,
          9.983330002361344,
          9.902776557709359,
          9.775280449391124,
          9.608862074343591,
          9.408703990233107,
          9.175215949414124,
          8.909361457235534,
          8.602957632247826,
          8.263715441695814,
          7.89614887994839,
          7.500625072267778,
          7.076750735465749,
          6.623653491813058,
          6.1398790282748905,
          5.623858029409749,
          5.071561150770608,
          4.4788816755225005,
          3.8530442164278846,
          3.1929237120315697,
          2.4831028131500643,
          1.7252502594492798,
          0.9208661740287496,
          0.06667588870381203,
          0
         ]
        }
       ],
       "layout": {
        "autosize": false,
        "height": 700,
        "scene": {
         "camera": {
          "center": {
           "x": 0,
           "y": 0,
           "z": 0
          },
          "eye": {
           "x": 2,
           "y": 2,
           "z": 0.1
          },
          "up": {
           "x": 0,
           "y": 0,
           "z": 1
          }
         },
         "xaxis": {
          "backgroundcolor": "rgb(220, 220, 220)",
          "gridcolor": "rgb(255, 255, 255)",
          "range": [
           -5,
           5
          ],
          "showbackground": true,
          "zerolinecolor": "rgb(255, 0, 0)"
         },
         "yaxis": {
          "backgroundcolor": "rgb(220, 220, 220)",
          "color": "green",
          "gridcolor": "rgb(255, 255, 255)",
          "range": [
           -5,
           5
          ],
          "showbackground": true,
          "zerolinecolor": "rgb(255, 0, 0)"
         },
         "zaxis": {
          "backgroundcolor": "rgb(180, 180, 180)",
          "color": "blue",
          "gridcolor": "rgb(255, 255, 255)",
          "range": [
           0,
           11
          ],
          "showbackground": true,
          "zerolinecolor": "rgb(255, 0, 0)"
         }
        },
        "title": {
         "text": "PolicySearch Trajectory"
        },
        "width": 700
       }
      },
      "text/html": [
       "<div>\n",
       "        \n",
       "        \n",
       "            <div id=\"bc64182c-63c5-43cc-8683-935e9e894a95\" class=\"plotly-graph-div\" style=\"height:700px; width:700px;\"></div>\n",
       "            <script type=\"text/javascript\">\n",
       "                require([\"plotly\"], function(Plotly) {\n",
       "                    window.PLOTLYENV=window.PLOTLYENV || {};\n",
       "                    window.PLOTLYENV.BASE_URL='https://plot.ly';\n",
       "                    \n",
       "                if (document.getElementById(\"bc64182c-63c5-43cc-8683-935e9e894a95\")) {\n",
       "                    Plotly.newPlot(\n",
       "                        'bc64182c-63c5-43cc-8683-935e9e894a95',\n",
       "                        [{\"line\": {\"color\": \"#000000\", \"width\": 1}, \"marker\": {\"color\": [0.0, 0.06, 0.12, 0.18, 0.24, 0.3, 0.36000000000000004, 0.4200000000000001, 0.4800000000000002, 0.5400000000000001, 0.6000000000000002, 0.6600000000000003, 0.7200000000000003, 0.7800000000000004, 0.8400000000000004, 0.9000000000000005, 0.9600000000000004, 1.0200000000000005, 1.0800000000000003, 1.1400000000000006, 1.2000000000000006, 1.260000000000001, 1.3200000000000007, 1.3800000000000008, 1.4400000000000008, 1.5000000000000009, 1.560000000000001], \"colorscale\": \"Portland\", \"size\": 4}, \"type\": \"scatter3d\", \"uid\": \"0acd82fc-b535-4069-951e-2f58b8adc860\", \"x\": [0.0, -0.0003730391518416838, -0.0036958957695338774, -0.012142304182241895, -0.024381047128342742, -0.036622074177200335, -0.051285910563990345, -0.061333042687421936, -0.05562053741355881, -0.06539151560885607, -0.1111688518488271, -0.18827158509327596, -0.2870336763407687, -0.3983164013173826, -0.5150859633901, -0.6327138690003169, -0.7489341099958399, -0.8611255037269255, -0.96398171045739, -1.0623268398711314, -1.1649332118621567, -1.2658234669463018, -1.3665165622829236, -1.4711913591450712, -1.5677597336245988, -1.6586127798096892, -1.750385128944214], \"y\": [0.0, 0.00477892444223547, 0.04494608579722472, 0.13605487132137145, 0.2769390437950892, 0.452780442381825, 0.6449040548428243, 0.8342074996924713, 1.0341704525477338, 1.2586035269942868, 1.4974277885659175, 1.7324928220224949, 1.9551752259091573, 2.163336870292773, 2.3587951015954625, 2.5457209353178283, 2.7287216633467724, 2.910879754806792, 3.096609909099585, 3.2890435791026187, 3.4813520384331937, 3.6734022527584687, 3.8727048160711615, 4.0771164609977895, 4.284250275676933, 4.493643916981901, 4.710168522106335], \"z\": [10.0, 10.007201185565233, 10.012440866854343, 9.983330002361344, 9.902776557709359, 9.775280449391124, 9.608862074343591, 9.408703990233107, 9.175215949414124, 8.909361457235534, 8.602957632247826, 8.263715441695814, 7.89614887994839, 7.500625072267778, 7.076750735465749, 6.623653491813058, 6.1398790282748905, 5.623858029409749, 5.071561150770608, 4.4788816755225005, 3.8530442164278846, 3.1929237120315697, 2.4831028131500643, 1.7252502594492798, 0.9208661740287496, 0.06667588870381203, 0.0]}],\n",
       "                        {\"autosize\": false, \"height\": 700, \"scene\": {\"camera\": {\"center\": {\"x\": 0, \"y\": 0, \"z\": 0}, \"eye\": {\"x\": 2, \"y\": 2, \"z\": 0.1}, \"up\": {\"x\": 0, \"y\": 0, \"z\": 1}}, \"xaxis\": {\"backgroundcolor\": \"rgb(220, 220, 220)\", \"gridcolor\": \"rgb(255, 255, 255)\", \"range\": [-5, 5], \"showbackground\": true, \"zerolinecolor\": \"rgb(255, 0, 0)\"}, \"yaxis\": {\"backgroundcolor\": \"rgb(220, 220, 220)\", \"color\": \"green\", \"gridcolor\": \"rgb(255, 255, 255)\", \"range\": [-5, 5], \"showbackground\": true, \"zerolinecolor\": \"rgb(255, 0, 0)\"}, \"zaxis\": {\"backgroundcolor\": \"rgb(180, 180, 180)\", \"color\": \"blue\", \"gridcolor\": \"rgb(255, 255, 255)\", \"range\": [0, 11], \"showbackground\": true, \"zerolinecolor\": \"rgb(255, 0, 0)\"}}, \"title\": {\"text\": \"PolicySearch Trajectory\"}, \"width\": 700},\n",
       "                        {\"showLink\": false, \"linkText\": \"Export to plot.ly\", \"plotlyServerURL\": \"https://plot.ly\", \"responsive\": true}\n",
       "                    ).then(function(){\n",
       "                            \n",
       "var gd = document.getElementById('bc64182c-63c5-43cc-8683-935e9e894a95');\n",
       "var x = new MutationObserver(function (mutations, observer) {{\n",
       "        var display = window.getComputedStyle(gd).display;\n",
       "        if (!display || display === 'none') {{\n",
       "            console.log([gd, 'removed!']);\n",
       "            Plotly.purge(gd);\n",
       "            observer.disconnect();\n",
       "        }}\n",
       "}});\n",
       "\n",
       "// Listen for the removal of the full notebook cells\n",
       "var notebookContainer = gd.closest('#notebook-container');\n",
       "if (notebookContainer) {{\n",
       "    x.observe(notebookContainer, {childList: true});\n",
       "}}\n",
       "\n",
       "// Listen for the clearing of the current output cell\n",
       "var outputEl = gd.closest('.output');\n",
       "if (outputEl) {{\n",
       "    x.observe(outputEl, {childList: true});\n",
       "}}\n",
       "\n",
       "                        })\n",
       "                };\n",
       "                });\n",
       "            </script>\n",
       "        </div>"
      ]
     },
     "metadata": {},
     "output_type": "display_data"
    }
   ],
   "source": [
    "visuals.plot_trajectory_3d('PolicySearch_Agent_History.csv', 'PolicySearch Trajectory', filename='PolicySearch Trajectory',\n",
    "                           width=700, height=700, axis_ranges=([-5,5], [-5,5], [0,11]))"
   ]
  },
  {
   "cell_type": "markdown",
   "metadata": {
    "colab_type": "text",
    "id": "nJnH3gSVwiOm"
   },
   "source": [
    "This agent should perform very poorly on this task.  And that's where you come in!"
   ]
  },
  {
   "cell_type": "markdown",
   "metadata": {
    "colab_type": "text",
    "collapsed": true,
    "id": "SfPxA6AiwiOn"
   },
   "source": [
    "## Define the Task, Design the Agent, and Train Your Agent!\n",
    "\n",
    "Amend `task.py` to specify a task of your choosing.  If you're unsure what kind of task to specify, you may like to teach your quadcopter to takeoff, hover in place, land softly, or reach a target pose.  \n",
    "\n",
    "After specifying your task, use the sample agent in `agents/policy_search.py` as a template to define your own agent in `agents/agent.py`.  You can borrow whatever you need from the sample agent, including ideas on how you might modularize your code (using helper methods like `act()`, `learn()`, `reset_episode()`, etc.).\n",
    "\n",
    "Note that it is **highly unlikely** that the first agent and task that you specify will learn well.  You will likely have to tweak various hyperparameters and the reward function for your task until you arrive at reasonably good behavior.\n",
    "\n",
    "As you develop your agent, it's important to keep an eye on how it's performing. Use the code above as inspiration to build in a mechanism to log/save the total rewards obtained in each episode to file.  If the episode rewards are gradually increasing, this is an indication that your agent is learning."
   ]
  },
  {
   "cell_type": "markdown",
   "metadata": {
    "colab_type": "text",
    "id": "zaiQxBUjBKAD"
   },
   "source": [
    "## Vertical Takeoff Task"
   ]
  },
  {
   "cell_type": "code",
   "execution_count": 0,
   "metadata": {
    "colab": {},
    "colab_type": "code",
    "id": "uikBqru1wiOo"
   },
   "outputs": [],
   "source": [
    "## TODO: Train your agent here.\n",
    "import sys\n",
    "import numpy as np\n",
    "import pandas as pd\n",
    "from agents.ddpg import DDPG\n",
    "from tasks.vtakeoff_task import VerticalTakeoffTask\n",
    "\n",
    "runtime = 5.                                     # time limit of the episode\n",
    "init_pos = np.array([2., 3., 0., 0., 0., 0.])    # initial pose\n",
    "init_velocities = np.array([0., 0., 0.])         # initial velocities\n",
    "init_angle_velocities = np.array([0., 0., 0.])   # initial angle velocities\n",
    "\n",
    "task = VerticalTakeoffTask(init_pos, init_velocities, init_angle_velocities, runtime)\n",
    "agent = DDPG(task, batch_size=64)\n",
    "best_total_reward = -np.inf\n",
    "rewards_list = []"
   ]
  },
  {
   "cell_type": "code",
   "execution_count": 6,
   "metadata": {
    "colab": {
     "base_uri": "https://localhost:8080/",
     "height": 34
    },
    "colab_type": "code",
    "executionInfo": {
     "elapsed": 123,
     "status": "ok",
     "timestamp": 1559934064553,
     "user": {
      "displayName": "Hsin-Wei Wang",
      "photoUrl": "",
      "userId": "13772944166444182143"
     },
     "user_tz": -480
    },
    "id": "52YHRbfdwiOv",
    "outputId": "94f9b4f5-df50-497f-be2b-dc62f410e608"
   },
   "outputs": [
    {
     "name": "stdout",
     "output_type": "stream",
     "text": [
      "Episode=1000, TotalReward=250.333 (Best=250.333), x=-0.889, y=-1.522, z=127.465, time=5.02"
     ]
    }
   ],
   "source": [
    "num_episodes = 1000\n",
    "episode_num_start = 1\n",
    "\n",
    "for i_episode in range(episode_num_start, episode_num_start+num_episodes):\n",
    "    total_reward = 0\n",
    "    state = agent.reset_episode() # start a new episode\n",
    "    while True:\n",
    "        action = agent.act(state)\n",
    "        # Take action, get new state and reward\n",
    "        next_state, reward, done = task.step(action)\n",
    "        total_reward += reward\n",
    "        agent.step(action, reward, next_state, done)\n",
    "        state = next_state\n",
    "        if done:\n",
    "            rewards_list.append((i_episode, total_reward))\n",
    "            \n",
    "            if total_reward > best_total_reward:\n",
    "                best_total_reward = total_reward\n",
    "            \n",
    "            print(\"\\rEpisode={:4d}, TotalReward={:7.3f} (Best={:7.3f}), x={:5.3f}, y={:5.3f}, z={:5.3f}, time={:4.2f}\".format(\n",
    "                i_episode, total_reward, best_total_reward, task.sim.pose[0], task.sim.pose[1], task.sim.pose[2], task.sim.time), end='')\n",
    "            sys.stdout.flush()\n",
    "            break"
   ]
  },
  {
   "cell_type": "code",
   "execution_count": 0,
   "metadata": {
    "colab": {},
    "colab_type": "code",
    "id": "kBQFZHE3Ghmc"
   },
   "outputs": [],
   "source": [
    "# Save reward per episode to file\n",
    "import csv\n",
    "\n",
    "with open('VTakeoff_Training_Rewards.csv', 'w', newline='') as csvfile:\n",
    "    writer = csv.writer(csvfile)\n",
    "    writer.writerow(['Episode', 'Total Reward'])\n",
    "    writer.writerows(rewards_list)"
   ]
  },
  {
   "cell_type": "markdown",
   "metadata": {
    "colab_type": "text",
    "collapsed": true,
    "id": "Vz4UeCkpwiO0"
   },
   "source": [
    "## Plot the Rewards\n",
    "\n",
    "Once you are satisfied with your performance, plot the episode rewards, either from a single run, or averaged over multiple runs. "
   ]
  },
  {
   "cell_type": "code",
   "execution_count": 8,
   "metadata": {
    "colab": {
     "base_uri": "https://localhost:8080/",
     "height": 392
    },
    "colab_type": "code",
    "executionInfo": {
     "elapsed": 1923,
     "status": "ok",
     "timestamp": 1559934134756,
     "user": {
      "displayName": "Hsin-Wei Wang",
      "photoUrl": "",
      "userId": "13772944166444182143"
     },
     "user_tz": -480
    },
    "id": "OuYix9ClwiO4",
    "outputId": "da2ef2a2-151e-4ac3-fdb7-261b08dd14e1"
   },
   "outputs": [
    {
     "data": {
      "image/png": "[encoded data removed]",
      "text/plain": [
       "<Figure size 864x432 with 1 Axes>"
      ]
     },
     "metadata": {
      "tags": []
     },
     "output_type": "display_data"
    }
   ],
   "source": [
    "visuals.plot_rewards(rewards_list, 10)"
   ]
  },
  {
   "cell_type": "markdown",
   "metadata": {
    "colab_type": "text",
    "id": "HM0yr-FjwiPE"
   },
   "source": [
    "## Run Vertical Takeoff Simulations from Different Initial Positions"
   ]
  },
  {
   "cell_type": "code",
   "execution_count": 9,
   "metadata": {
    "colab": {
     "base_uri": "https://localhost:8080/",
     "height": 68
    },
    "colab_type": "code",
    "executionInfo": {
     "elapsed": 3889,
     "status": "ok",
     "timestamp": 1559934285041,
     "user": {
      "displayName": "Hsin-Wei Wang",
      "photoUrl": "",
      "userId": "13772944166444182143"
     },
     "user_tz": -480
    },
    "id": "ehg2hj7mwiPE",
    "outputId": "f6f8c89d-ddd7-4b89-e981-3cd8e89c4197"
   },
   "outputs": [
    {
     "name": "stdout",
     "output_type": "stream",
     "text": [
      "Total Reward=250.333, x=5.000, y=1.000, z=127.463\n",
      "Total Reward=250.333, x=10.000, y=10.000, z=127.463\n",
      "Total Reward=250.333, x=11.000, y=7.000, z=127.463\n"
     ]
    }
   ],
   "source": [
    "import csv\n",
    "\n",
    "labels = ['time', 'x', 'y', 'z', 'phi', 'theta', 'psi', 'x_velocity',\n",
    "          'y_velocity', 'z_velocity', 'phi_velocity', 'theta_velocity',\n",
    "          'psi_velocity', 'rotor_speed1', 'rotor_speed2', 'rotor_speed3', 'rotor_speed4',\n",
    "          'reward']\n",
    "\n",
    "init_pos_list = [np.array([5., 1., 0., 0., 0., 0.]),\n",
    "                 np.array([10., 10., 0., 0., 0., 0.]),\n",
    "                 np.array([11., 7., 0., 0., 0., 0.])]\n",
    "\n",
    "for i in range(len(init_pos_list)):\n",
    "    task.sim.init_pose = init_pos_list[i]\n",
    "    file_history = \"DDPG_VTakeoff_History_{}.csv\".format(i)\n",
    "\n",
    "    # Run the simulation, and save the results.\n",
    "    state = agent.reset_episode()\n",
    "    with open(file_history, 'w', newline='') as csvfile:\n",
    "        writer = csv.writer(csvfile)\n",
    "        writer.writerow(labels)\n",
    "        writer.writerow([task.sim.time] + list(task.sim.pose) + list(task.sim.v) + list(task.sim.angular_v) + list(action) + [reward])\n",
    "        total_reward = 0\n",
    "        while True:\n",
    "            action = agent.act(state, False)\n",
    "            next_state, reward, done = task.step(action)\n",
    "            total_reward += reward\n",
    "            writer.writerow([task.sim.time] + list(task.sim.pose) + list(task.sim.v) + list(task.sim.angular_v) + list(action) + [reward])\n",
    "            state = next_state\n",
    "            if done:\n",
    "                print(\"Total Reward={:7.3f}, x={:5.3f}, y={:5.3f}, z={:5.3f}\".format(\n",
    "                    total_reward, task.sim.pose[0], task.sim.pose[1], task.sim.pose[2]))\n",
    "                break"
   ]
  },
  {
   "cell_type": "code",
   "execution_count": 10,
   "metadata": {
    "colab": {
     "base_uri": "https://localhost:8080/",
     "height": 1521
    },
    "colab_type": "code",
    "executionInfo": {
     "elapsed": 3033,
     "status": "ok",
     "timestamp": 1559934300786,
     "user": {
      "displayName": "Hsin-Wei Wang",
      "photoUrl": "",
      "userId": "13772944166444182143"
     },
     "user_tz": -480
    },
    "id": "ohaUzm53BKA4",
    "outputId": "b3fe6284-8c41-430f-a8dd-6466d2266d2b"
   },
   "outputs": [
    {
     "data": {
      "image/png": "[encoded data removed]",
      "text/plain": [
       "<Figure size 720x720 with 2 Axes>"
      ]
     },
     "metadata": {
      "tags": []
     },
     "output_type": "display_data"
    },
    {
     "data": {
      "image/png": "[encoded data removed]",
      "text/plain": [
       "<Figure size 720x720 with 2 Axes>"
      ]
     },
     "metadata": {
      "tags": []
     },
     "output_type": "display_data"
    },
    {
     "data": {
      "image/png": "[encoded data removed]",
      "text/plain": [
       "<Figure size 720x360 with 1 Axes>"
      ]
     },
     "metadata": {
      "tags": []
     },
     "output_type": "display_data"
    }
   ],
   "source": [
    "# Visualization for an initial position.\n",
    "file_ddpg_vtakeoff = 'DDPG_VTakeoff_History_0.csv'\n",
    "visuals.plot_position(file_ddpg_vtakeoff, size=(10, 10))\n",
    "visuals.plot_euler_angle(file_ddpg_vtakeoff, size=(10, 10))\n",
    "visuals.plot_rotor_speed(file_ddpg_vtakeoff, size=(10, 5))"
   ]
  },
  {
   "cell_type": "markdown",
   "metadata": {
    "colab_type": "text",
    "id": "MLWRxwYZBKBB"
   },
   "source": [
    "### 3D Trajectory for DDPG Agent\n",
    "\n",
    "* <font color='blue'>Blue mark</font> represnets the start point\n",
    "* <font color='red'>Red mark</font> represnets the end point"
   ]
  },
  {
   "cell_type": "markdown",
   "metadata": {},
   "source": [
    "<a href=\"imgs/DDPG_VTakeoff_History_0.png\" target=\"_blank\"><img src=\"imgs/DDPG_VTakeoff_History_0.png\" alt=\"DDPG 3D Trajectory\" title=\"DDPG 3D Trajectory\"></a>"
   ]
  },
  {
   "cell_type": "code",
   "execution_count": 5,
   "metadata": {
    "colab": {},
    "colab_type": "code",
    "id": "8sCDQ9-ywiPH",
    "outputId": "1c2e4ff3-fb77-4786-dc1e-b08d40ec6983"
   },
   "outputs": [
    {
     "data": {
      "application/vnd.plotly.v1+json": {
       "config": {
        "linkText": "Export to plot.ly",
        "plotlyServerURL": "https://plot.ly",
        "responsive": true,
        "showLink": false
       },
       "data": [
        {
         "line": {
          "color": "#000000",
          "width": 1
         },
         "marker": {
          "color": [
           0,
           0.02,
           0.04,
           0.06,
           0.08,
           0.1,
           0.12,
           0.14,
           0.16,
           0.18,
           0.2,
           0.22,
           0.24,
           0.25999999999999995,
           0.28,
           0.3,
           0.32,
           0.34,
           0.36000000000000004,
           0.3800000000000001,
           0.4000000000000001,
           0.4200000000000001,
           0.4400000000000001,
           0.4600000000000001,
           0.4800000000000002,
           0.5000000000000001,
           0.5200000000000001,
           0.5400000000000001,
           0.5600000000000002,
           0.5800000000000002,
           0.6000000000000002,
           0.6200000000000002,
           0.6400000000000002,
           0.6600000000000003,
           0.6800000000000003,
           0.7000000000000003,
           0.7200000000000003,
           0.7400000000000003,
           0.7600000000000003,
           0.7800000000000004,
           0.8000000000000004,
           0.8200000000000004,
           0.8400000000000004,
           0.8600000000000004,
           0.8800000000000004,
           0.9000000000000005,
           0.9200000000000004,
           0.9400000000000004,
           0.9600000000000004,
           0.9800000000000004,
           1.0000000000000004,
           1.0200000000000005,
           1.0400000000000005,
           1.0600000000000005,
           1.0800000000000003,
           1.1000000000000003,
           1.1200000000000006,
           1.1400000000000006,
           1.1600000000000006,
           1.1800000000000006,
           1.2000000000000006,
           1.2200000000000006,
           1.2400000000000009,
           1.260000000000001,
           1.2800000000000007,
           1.3000000000000007,
           1.3200000000000007,
           1.3400000000000007,
           1.3600000000000008,
           1.3800000000000008,
           1.4000000000000008,
           1.4200000000000008,
           1.4400000000000008,
           1.4600000000000009,
           1.4800000000000009,
           1.5000000000000009,
           1.520000000000001,
           1.540000000000001,
           1.560000000000001,
           1.580000000000001,
           1.600000000000001,
           1.620000000000001,
           1.6400000000000008,
           1.6600000000000008,
           1.6800000000000008,
           1.7000000000000008,
           1.7200000000000009,
           1.7400000000000009,
           1.7600000000000011,
           1.7800000000000011,
           1.8000000000000012,
           1.8200000000000007,
           1.8400000000000007,
           1.8600000000000008,
           1.8800000000000008,
           1.9000000000000008,
           1.9200000000000013,
           1.9400000000000013,
           1.9600000000000013,
           1.980000000000001,
           2.0000000000000013,
           2.0200000000000014,
           2.0400000000000014,
           2.0600000000000014,
           2.0800000000000014,
           2.1000000000000014,
           2.120000000000001,
           2.140000000000001,
           2.160000000000001,
           2.180000000000001,
           2.200000000000001,
           2.220000000000001,
           2.240000000000001,
           2.2600000000000016,
           2.2800000000000016,
           2.3000000000000016,
           2.3200000000000016,
           2.3400000000000016,
           2.3600000000000017,
           2.3800000000000017,
           2.4000000000000017,
           2.4200000000000017,
           2.4400000000000017,
           2.4600000000000017,
           2.4800000000000018,
           2.5000000000000018,
           2.5200000000000022,
           2.5400000000000023,
           2.5600000000000023,
           2.5800000000000023,
           2.600000000000002,
           2.620000000000002,
           2.640000000000002,
           2.660000000000002,
           2.680000000000002,
           2.700000000000002,
           2.720000000000002,
           2.740000000000002,
           2.760000000000002,
           2.7800000000000016,
           2.8000000000000016,
           2.8200000000000016,
           2.8400000000000016,
           2.8600000000000017,
           2.8800000000000017,
           2.9000000000000017,
           2.9200000000000017,
           2.9400000000000017,
           2.9600000000000017,
           2.9800000000000018,
           3.0000000000000018,
           3.0200000000000022,
           3.0400000000000023,
           3.0600000000000023,
           3.0800000000000023,
           3.1000000000000023,
           3.1200000000000023,
           3.1400000000000023,
           3.1600000000000024,
           3.1800000000000024,
           3.2000000000000024,
           3.2200000000000024,
           3.2400000000000024,
           3.2600000000000025,
           3.2800000000000025,
           3.3000000000000025,
           3.3200000000000025,
           3.3400000000000025,
           3.3600000000000025,
           3.3800000000000026,
           3.4000000000000026,
           3.4200000000000026,
           3.4400000000000026,
           3.460000000000002,
           3.480000000000002,
           3.5000000000000027,
           3.5200000000000027,
           3.5400000000000027,
           3.5600000000000027,
           3.5800000000000027,
           3.6000000000000028,
           3.6200000000000023,
           3.640000000000003,
           3.660000000000003,
           3.680000000000003,
           3.700000000000003,
           3.720000000000003,
           3.740000000000003,
           3.760000000000003,
           3.780000000000003,
           3.800000000000003,
           3.820000000000003,
           3.840000000000003,
           3.860000000000003,
           3.880000000000003,
           3.900000000000003,
           3.920000000000003,
           3.940000000000003,
           3.960000000000003,
           3.980000000000003,
           4.000000000000003,
           4.020000000000001,
           4.040000000000002,
           4.060000000000001,
           4.080000000000001,
           4.1000000000000005,
           4.12,
           4.14,
           4.159999999999998,
           4.179999999999999,
           4.199999999999998,
           4.219999999999998,
           4.2399999999999975,
           4.259999999999997,
           4.279999999999997,
           4.299999999999996,
           4.319999999999996,
           4.339999999999995,
           4.359999999999995,
           4.3799999999999955,
           4.399999999999994,
           4.419999999999994,
           4.439999999999993,
           4.459999999999994,
           4.479999999999992,
           4.499999999999992,
           4.5199999999999925,
           4.539999999999991,
           4.559999999999991,
           4.57999999999999,
           4.599999999999991,
           4.619999999999989,
           4.639999999999988,
           4.659999999999988,
           4.679999999999988,
           4.699999999999988,
           4.719999999999987,
           4.739999999999988,
           4.7599999999999865,
           4.779999999999986,
           4.7999999999999865,
           4.819999999999985,
           4.839999999999985,
           4.8599999999999834,
           4.879999999999983,
           4.899999999999984,
           4.919999999999983,
           4.9399999999999835,
           4.959999999999981,
           4.979999999999982,
           4.999999999999981,
           5.019999999999982
          ],
          "colorscale": "Portland",
          "size": 4
         },
         "type": "scatter3d",
         "uid": "c05a02a2-6dce-4213-a3f0-479e40d3950d",
         "x": [
          5,
          5,
          5,
          5,
          5,
          5,
          5,
          5,
          5,
          5,
          5,
          5,
          5,
          5,
          5,
          5,
          5,
          5,
          5,
          5,
          5,
          5,
          5,
          5,
          5,
          5,
          5,
          5,
          5,
          5,
          5,
          5,
          5,
          5,
          5,
          5,
          5,
          5,
          5,
          5,
          5,
          5,
          5,
          5,
          5,
          5,
          5,
          5,
          5,
          5,
          5,
          5,
          5,
          5,
          5,
          5,
          5,
          5,
          5,
          5,
          5,
          5,
          5,
          5,
          5,
          5,
          5,
          5,
          5,
          5,
          5,
          5,
          5,
          5,
          5,
          5,
          5,
          5,
          5,
          5,
          5,
          5,
          5,
          5,
          5,
          5,
          5,
          5,
          5,
          5,
          5,
          5,
          5,
          5,
          5,
          5,
          5,
          5,
          5,
          5,
          5,
          5,
          5,
          5,
          5,
          5,
          5,
          5,
          5,
          5,
          5,
          5,
          5,
          5,
          5,
          5,
          5,
          5,
          5,
          5,
          5,
          5,
          5,
          5,
          5,
          5,
          5,
          5,
          5,
          5,
          5,
          5,
          5,
          5,
          5,
          5,
          5,
          5,
          5,
          5,
          5,
          5,
          5,
          5,
          5,
          5,
          5,
          5,
          5,
          5,
          5,
          5,
          5,
          5,
          5,
          5,
          5,
          5,
          5,
          5,
          5,
          5,
          5,
          5,
          5,
          5,
          5,
          5,
          5,
          5,
          5,
          5,
          5,
          5,
          5,
          5,
          5,
          5,
          5,
          5,
          5,
          5,
          5,
          5,
          5,
          5,
          5,
          5,
          5,
          5,
          5,
          5,
          5,
          5,
          5,
          5,
          5,
          5,
          5,
          5,
          5,
          5,
          5,
          5,
          5,
          5,
          5,
          5,
          5,
          5,
          5,
          5,
          5,
          5,
          5,
          5,
          5,
          5,
          5,
          5,
          5,
          5,
          5,
          5,
          5,
          5,
          5,
          5,
          5,
          5,
          5,
          5,
          5,
          5,
          5,
          5,
          5,
          5,
          5,
          5,
          5,
          5,
          5,
          5,
          5,
          5,
          5,
          5,
          5,
          5,
          5,
          5
         ],
         "y": [
          1,
          1,
          1,
          1,
          1,
          1,
          1,
          1,
          1,
          1,
          1,
          1,
          1,
          1,
          1,
          1,
          1,
          1,
          1,
          1,
          1,
          1,
          1,
          1,
          1,
          1,
          1,
          1,
          1,
          1,
          1,
          1,
          1,
          1,
          1,
          1,
          1,
          1,
          1,
          1,
          1,
          1,
          1,
          1,
          1,
          1,
          1,
          1,
          1,
          1,
          1,
          1,
          1,
          1,
          1,
          1,
          1,
          1,
          1,
          1,
          1,
          1,
          1,
          1,
          1,
          1,
          1,
          1,
          1,
          1,
          1,
          1,
          1,
          1,
          1,
          1,
          1,
          1,
          1,
          1,
          1,
          1,
          1,
          1,
          1,
          1,
          1,
          1,
          1,
          1,
          1,
          1,
          1,
          1,
          1,
          1,
          1,
          1,
          1,
          1,
          1,
          1,
          1,
          1,
          1,
          1,
          1,
          1,
          1,
          1,
          1,
          1,
          1,
          1,
          1,
          1,
          1,
          1,
          1,
          1,
          1,
          1,
          1,
          1,
          1,
          1,
          1,
          1,
          1,
          1,
          1,
          1,
          1,
          1,
          1,
          1,
          1,
          1,
          1,
          1,
          1,
          1,
          1,
          1,
          1,
          1,
          1,
          1,
          1,
          1,
          1,
          1,
          1,
          1,
          1,
          1,
          1,
          1,
          1,
          1,
          1,
          1,
          1,
          1,
          1,
          1,
          1,
          1,
          1,
          1,
          1,
          1,
          1,
          1,
          1,
          1,
          1,
          1,
          1,
          1,
          1,
          1,
          1,
          1,
          1,
          1,
          1,
          1,
          1,
          1,
          1,
          1,
          1,
          1,
          1,
          1,
          1,
          1,
          1,
          1,
          1,
          1,
          1,
          1,
          1,
          1,
          1,
          1,
          1,
          1,
          1,
          1,
          1,
          1,
          1,
          1,
          1,
          1,
          1,
          1,
          1,
          1,
          1,
          1,
          1,
          1,
          1,
          1,
          1,
          1,
          1,
          1,
          1,
          1,
          1,
          1,
          1,
          1,
          1,
          1,
          1,
          1,
          1,
          1,
          1,
          1,
          1,
          1,
          1,
          1,
          1,
          1
         ],
         "z": [
          0,
          0.007778292275574116,
          0.03110676446908113,
          0.06996080003579706,
          0.1242922516132677,
          0.19402967943431768,
          0.2790787298840178,
          0.37932264986891895,
          0.4946229309625785,
          0.6248200757097233,
          0.7697344770450675,
          0.9291674005397268,
          1.102902058150594,
          1.2907047613319722,
          1.4923261407836952,
          1.7075024197588484,
          1.935956727733626,
          2.1774004413425674,
          2.4315345397899217,
          2.69805096244326,
          2.9766339569763267,
          3.266961407229497,
          3.5687061308715777,
          3.881537137949036,
          4.205120842470967,
          4.539122220274706,
          4.883205907523453,
          5.237037235281976,
          5.600283196679803,
          5.9726133441869065,
          6.353700615481117,
          6.7432220872687285,
          7.140859657222335,
          7.546300654917622,
          7.959238383281338,
          8.379372592605312,
          8.806409889637806,
          9.240064084636844,
          9.680056479564634,
          10.126116100823168,
          10.577979880084742,
          11.035392786863632,
          11.498107916513453,
          11.965886537325465,
          12.438498100352767,
          12.915720215500395,
          13.397338597308025,
          13.88314698371513,
          14.372947030944411,
          14.866548187471285,
          15.363767549870618,
          15.864429703149488,
          16.368366547989968,
          16.87541711714163,
          17.385427383021504,
          17.898250058401818,
          18.41374439189419,
          18.93177595977448,
          19.452216455535623,
          19.974943478407944,
          20.4998403219469,
          21.0267957636582,
          21.555703856509403,
          22.086463723065012,
          22.618979352879304,
          23.153159403686818,
          23.688917006844306,
          24.226169577400018,
          24.764838629095607,
          25.30484959454239,
          25.846131650756988,
          26.38861755019059,
          26.932243457341198,
          27.47694879099857,
          28.02267607213675,
          28.569370777438827,
          29.116981198412123,
          29.665458306029574,
          30.21475562081387,
          30.76482908826437,
          31.315636959513697,
          31.86713967708951,
          32.41929976564814,
          32.972081727539766,
          33.525451943059394,
          34.079378575234145,
          34.633831478995084,
          35.18878211457982,
          35.744203465012696,
          36.30006995750895,
          36.85635738865121,
          37.41304285318818,
          37.97010467630781,
          38.52752234924024,
          39.08527646804895,
          39.643348675471984,
          40.201721605679005,
          40.760378831813796,
          41.31930481619576,
          41.878484863058404,
          42.43790507370675,
          42.99755230397995,
          43.55741412390957,
          44.117478779468286,
          44.677735156307946,
          45.23817274538961,
          45.798781610413116,
          46.3595523569565,
          46.92047610324065,
          47.48154445243707,
          48.04274946644159,
          48.60408364103919,
          49.16553988238929,
          49.72711148476385,
          50.28879210947389,
          50.85057576492294,
          51.41245678772921,
          51.974429824860685,
          52.53648981673039,
          53.0986319812014,
          53.660851798454075,
          54.22314499666982,
          54.78550753848828,
          55.34793560819735,
          55.91042559961667,
          56.47297410463787,
          57.03557790238678,
          57.59823394897406,
          58.160939367803046,
          58.72369144040472,
          59.28648759777168,
          59.84932541216426,
          60.412202589363226,
          60.975116961345215,
          61.53806647935791,
          62.101049207373435,
          62.664063315899455,
          63.22710707612865,
          63.79017885440822,
          64.35327710701199,
          64.91640037519883,
          65.4795472805415,
          66.04271652051165,
          66.6059068643067,
          67.16911714890556,
          67.73234627534055,
          68.29559320517407,
          68.85885695716837,
          69.42213660413839,
          69.98543126997714,
          70.54874012684462,
          71.11206239251109,
          71.67539732784637,
          72.23874423444694,
          72.80210245239375,
          73.36547135813308,
          73.92885036247395,
          74.49223890869574,
          75.05563647075978,
          75.61904255161951,
          76.18245668162339,
          76.74587841700581,
          77.30930733846101,
          77.87274304979559,
          78.436185176655,
          78.99963336532028,
          79.563087281571,
          80.12654660961087,
          80.69001105105234,
          81.25348032395738,
          81.81695416193078,
          82.38043231326365,
          82.94391454012394,
          83.50740061779162,
          84.07089033393603,
          84.63438348793288,
          85.19787989021906,
          85.76137936168287,
          86.32488173308803,
          86.8883868445291,
          87.45189454491727,
          88.0154046914942,
          88.57891714937301,
          89.14243179110399,
          89.70594849626491,
          90.2694671510733,
          90.83298764802076,
          91.39650988552664,
          91.96003376761145,
          92.52355920358814,
          93.08708610777005,
          93.65061439919536,
          94.21414400136663,
          94.77767484200452,
          95.3412068528153,
          95.90473996927116,
          96.46827413040228,
          97.03180927860107,
          97.59534535943644,
          98.15888232147877,
          98.72242011613449,
          99.2859586974895,
          99.84949802216171,
          100.41303804916113,
          100.97657873975812,
          101.54012005735876,
          102.10366196738704,
          102.66720443717358,
          103.23074743585056,
          103.79429093425236,
          104.35783490482159,
          104.92137932152052,
          105.4849241597473,
          106.04846939625669,
          106.61201500908527,
          107.17556097748087,
          107.73910728183563,
          108.30265390362294,
          108.86620082533791,
          109.42974803044086,
          109.9932955033043,
          110.55684322916241,
          111.1203911940637,
          111.68393938482602,
          112.24748778899414,
          112.81103639479969,
          113.37458519112322,
          113.93813416745856,
          114.5016833138788,
          115.06523262100457,
          115.6287820799736,
          116.19233168241242,
          116.75588142040928,
          117.31943128648876,
          117.88298127358765,
          118.44653137503221,
          119.01008158451685,
          119.57363189608354,
          120.13718230410294,
          120.70073280325606,
          121.26428338851728,
          121.82783405513813,
          122.39138479863192,
          122.95493561475945,
          123.5184864995153,
          124.08203744911488,
          124.64558845998236,
          125.20913952873906,
          125.77269065219258,
          126.33624182732667,
          126.89979305129135,
          127.46334432139385
         ]
        }
       ],
       "layout": {
        "autosize": false,
        "height": 800,
        "scene": {
         "camera": {
          "center": {
           "x": 0,
           "y": 0,
           "z": 0
          },
          "eye": {
           "x": 2,
           "y": 2,
           "z": 0.1
          },
          "up": {
           "x": 0,
           "y": 0,
           "z": 1
          }
         },
         "xaxis": {
          "backgroundcolor": "rgb(220, 220, 220)",
          "gridcolor": "rgb(255, 255, 255)",
          "range": [
           -10,
           10
          ],
          "showbackground": true,
          "zerolinecolor": "rgb(255, 0, 0)"
         },
         "yaxis": {
          "backgroundcolor": "rgb(220, 220, 220)",
          "color": "green",
          "gridcolor": "rgb(255, 255, 255)",
          "range": [
           -10,
           10
          ],
          "showbackground": true,
          "zerolinecolor": "rgb(255, 0, 0)"
         },
         "zaxis": {
          "backgroundcolor": "rgb(180, 180, 180)",
          "color": "blue",
          "gridcolor": "rgb(255, 255, 255)",
          "range": [
           0,
           120
          ],
          "showbackground": true,
          "zerolinecolor": "rgb(255, 0, 0)"
         }
        },
        "title": {
         "text": "DDPG Trajectory"
        },
        "width": 800
       }
      },
      "text/html": [
       "<div>\n",
       "        \n",
       "        \n",
       "            <div id=\"db32f8b8-b5c1-4794-bf05-9db87d8d8113\" class=\"plotly-graph-div\" style=\"height:800px; width:800px;\"></div>\n",
       "            <script type=\"text/javascript\">\n",
       "                require([\"plotly\"], function(Plotly) {\n",
       "                    window.PLOTLYENV=window.PLOTLYENV || {};\n",
       "                    window.PLOTLYENV.BASE_URL='https://plot.ly';\n",
       "                    \n",
       "                if (document.getElementById(\"db32f8b8-b5c1-4794-bf05-9db87d8d8113\")) {\n",
       "                    Plotly.newPlot(\n",
       "                        'db32f8b8-b5c1-4794-bf05-9db87d8d8113',\n",
       "                        [{\"line\": {\"color\": \"#000000\", \"width\": 1}, \"marker\": {\"color\": [0.0, 0.02, 0.04, 0.06, 0.08, 0.1, 0.12, 0.14, 0.16, 0.18, 0.2, 0.22, 0.24, 0.25999999999999995, 0.28, 0.3, 0.32, 0.34, 0.36000000000000004, 0.3800000000000001, 0.4000000000000001, 0.4200000000000001, 0.4400000000000001, 0.4600000000000001, 0.4800000000000002, 0.5000000000000001, 0.5200000000000001, 0.5400000000000001, 0.5600000000000002, 0.5800000000000002, 0.6000000000000002, 0.6200000000000002, 0.6400000000000002, 0.6600000000000003, 0.6800000000000003, 0.7000000000000003, 0.7200000000000003, 0.7400000000000003, 0.7600000000000003, 0.7800000000000004, 0.8000000000000004, 0.8200000000000004, 0.8400000000000004, 0.8600000000000004, 0.8800000000000004, 0.9000000000000005, 0.9200000000000004, 0.9400000000000004, 0.9600000000000004, 0.9800000000000004, 1.0000000000000004, 1.0200000000000005, 1.0400000000000005, 1.0600000000000005, 1.0800000000000003, 1.1000000000000003, 1.1200000000000006, 1.1400000000000006, 1.1600000000000006, 1.1800000000000006, 1.2000000000000006, 1.2200000000000006, 1.2400000000000009, 1.260000000000001, 1.2800000000000007, 1.3000000000000007, 1.3200000000000007, 1.3400000000000007, 1.3600000000000008, 1.3800000000000008, 1.4000000000000008, 1.4200000000000008, 1.4400000000000008, 1.4600000000000009, 1.4800000000000009, 1.5000000000000009, 1.520000000000001, 1.540000000000001, 1.560000000000001, 1.580000000000001, 1.600000000000001, 1.620000000000001, 1.6400000000000008, 1.6600000000000008, 1.6800000000000008, 1.7000000000000008, 1.7200000000000009, 1.7400000000000009, 1.7600000000000011, 1.7800000000000011, 1.8000000000000012, 1.8200000000000007, 1.8400000000000007, 1.8600000000000008, 1.8800000000000008, 1.9000000000000008, 1.9200000000000013, 1.9400000000000013, 1.9600000000000013, 1.980000000000001, 2.0000000000000013, 2.0200000000000014, 2.0400000000000014, 2.0600000000000014, 2.0800000000000014, 2.1000000000000014, 2.120000000000001, 2.140000000000001, 2.160000000000001, 2.180000000000001, 2.200000000000001, 2.220000000000001, 2.240000000000001, 2.2600000000000016, 2.2800000000000016, 2.3000000000000016, 2.3200000000000016, 2.3400000000000016, 2.3600000000000017, 2.3800000000000017, 2.4000000000000017, 2.4200000000000017, 2.4400000000000017, 2.4600000000000017, 2.4800000000000018, 2.5000000000000018, 2.5200000000000022, 2.5400000000000023, 2.5600000000000023, 2.5800000000000023, 2.600000000000002, 2.620000000000002, 2.640000000000002, 2.660000000000002, 2.680000000000002, 2.700000000000002, 2.720000000000002, 2.740000000000002, 2.760000000000002, 2.7800000000000016, 2.8000000000000016, 2.8200000000000016, 2.8400000000000016, 2.8600000000000017, 2.8800000000000017, 2.9000000000000017, 2.9200000000000017, 2.9400000000000017, 2.9600000000000017, 2.9800000000000018, 3.0000000000000018, 3.0200000000000022, 3.0400000000000023, 3.0600000000000023, 3.0800000000000023, 3.1000000000000023, 3.1200000000000023, 3.1400000000000023, 3.1600000000000024, 3.1800000000000024, 3.2000000000000024, 3.2200000000000024, 3.2400000000000024, 3.2600000000000025, 3.2800000000000025, 3.3000000000000025, 3.3200000000000025, 3.3400000000000025, 3.3600000000000025, 3.3800000000000026, 3.4000000000000026, 3.4200000000000026, 3.4400000000000026, 3.460000000000002, 3.480000000000002, 3.5000000000000027, 3.5200000000000027, 3.5400000000000027, 3.5600000000000027, 3.5800000000000027, 3.6000000000000028, 3.6200000000000023, 3.640000000000003, 3.660000000000003, 3.680000000000003, 3.700000000000003, 3.720000000000003, 3.740000000000003, 3.760000000000003, 3.780000000000003, 3.800000000000003, 3.820000000000003, 3.840000000000003, 3.860000000000003, 3.880000000000003, 3.900000000000003, 3.920000000000003, 3.940000000000003, 3.960000000000003, 3.980000000000003, 4.000000000000003, 4.020000000000001, 4.040000000000002, 4.060000000000001, 4.080000000000001, 4.1000000000000005, 4.12, 4.14, 4.159999999999998, 4.179999999999999, 4.199999999999998, 4.219999999999998, 4.2399999999999975, 4.259999999999997, 4.279999999999997, 4.299999999999996, 4.319999999999996, 4.339999999999995, 4.359999999999995, 4.3799999999999955, 4.399999999999994, 4.419999999999994, 4.439999999999993, 4.459999999999994, 4.479999999999992, 4.499999999999992, 4.5199999999999925, 4.539999999999991, 4.559999999999991, 4.57999999999999, 4.599999999999991, 4.619999999999989, 4.639999999999988, 4.659999999999988, 4.679999999999988, 4.699999999999988, 4.719999999999987, 4.739999999999988, 4.7599999999999865, 4.779999999999986, 4.7999999999999865, 4.819999999999985, 4.839999999999985, 4.8599999999999834, 4.879999999999983, 4.899999999999984, 4.919999999999983, 4.9399999999999835, 4.959999999999981, 4.979999999999982, 4.999999999999981, 5.019999999999982], \"colorscale\": \"Portland\", \"size\": 4}, \"type\": \"scatter3d\", \"uid\": \"1bd26766-8676-4f21-a098-755de36f2066\", \"x\": [5.0, 5.0, 5.0, 5.0, 5.0, 5.0, 5.0, 5.0, 5.0, 5.0, 5.0, 5.0, 5.0, 5.0, 5.0, 5.0, 5.0, 5.0, 5.0, 5.0, 5.0, 5.0, 5.0, 5.0, 5.0, 5.0, 5.0, 5.0, 5.0, 5.0, 5.0, 5.0, 5.0, 5.0, 5.0, 5.0, 5.0, 5.0, 5.0, 5.0, 5.0, 5.0, 5.0, 5.0, 5.0, 5.0, 5.0, 5.0, 5.0, 5.0, 5.0, 5.0, 5.0, 5.0, 5.0, 5.0, 5.0, 5.0, 5.0, 5.0, 5.0, 5.0, 5.0, 5.0, 5.0, 5.0, 5.0, 5.0, 5.0, 5.0, 5.0, 5.0, 5.0, 5.0, 5.0, 5.0, 5.0, 5.0, 5.0, 5.0, 5.0, 5.0, 5.0, 5.0, 5.0, 5.0, 5.0, 5.0, 5.0, 5.0, 5.0, 5.0, 5.0, 5.0, 5.0, 5.0, 5.0, 5.0, 5.0, 5.0, 5.0, 5.0, 5.0, 5.0, 5.0, 5.0, 5.0, 5.0, 5.0, 5.0, 5.0, 5.0, 5.0, 5.0, 5.0, 5.0, 5.0, 5.0, 5.0, 5.0, 5.0, 5.0, 5.0, 5.0, 5.0, 5.0, 5.0, 5.0, 5.0, 5.0, 5.0, 5.0, 5.0, 5.0, 5.0, 5.0, 5.0, 5.0, 5.0, 5.0, 5.0, 5.0, 5.0, 5.0, 5.0, 5.0, 5.0, 5.0, 5.0, 5.0, 5.0, 5.0, 5.0, 5.0, 5.0, 5.0, 5.0, 5.0, 5.0, 5.0, 5.0, 5.0, 5.0, 5.0, 5.0, 5.0, 5.0, 5.0, 5.0, 5.0, 5.0, 5.0, 5.0, 5.0, 5.0, 5.0, 5.0, 5.0, 5.0, 5.0, 5.0, 5.0, 5.0, 5.0, 5.0, 5.0, 5.0, 5.0, 5.0, 5.0, 5.0, 5.0, 5.0, 5.0, 5.0, 5.0, 5.0, 5.0, 5.0, 5.0, 5.0, 5.0, 5.0, 5.0, 5.0, 5.0, 5.0, 5.0, 5.0, 5.0, 5.0, 5.0, 5.0, 5.0, 5.0, 5.0, 5.0, 5.0, 5.0, 5.0, 5.0, 5.0, 5.0, 5.0, 5.0, 5.0, 5.0, 5.0, 5.0, 5.0, 5.0, 5.0, 5.0, 5.0, 5.0, 5.0, 5.0, 5.0, 5.0, 5.0, 5.0, 5.0, 5.0, 5.0, 5.0, 5.0, 5.0, 5.0, 5.0, 5.0, 5.0, 5.0], \"y\": [1.0, 1.0, 1.0, 1.0, 1.0, 1.0, 1.0, 1.0, 1.0, 1.0, 1.0, 1.0, 1.0, 1.0, 1.0, 1.0, 1.0, 1.0, 1.0, 1.0, 1.0, 1.0, 1.0, 1.0, 1.0, 1.0, 1.0, 1.0, 1.0, 1.0, 1.0, 1.0, 1.0, 1.0, 1.0, 1.0, 1.0, 1.0, 1.0, 1.0, 1.0, 1.0, 1.0, 1.0, 1.0, 1.0, 1.0, 1.0, 1.0, 1.0, 1.0, 1.0, 1.0, 1.0, 1.0, 1.0, 1.0, 1.0, 1.0, 1.0, 1.0, 1.0, 1.0, 1.0, 1.0, 1.0, 1.0, 1.0, 1.0, 1.0, 1.0, 1.0, 1.0, 1.0, 1.0, 1.0, 1.0, 1.0, 1.0, 1.0, 1.0, 1.0, 1.0, 1.0, 1.0, 1.0, 1.0, 1.0, 1.0, 1.0, 1.0, 1.0, 1.0, 1.0, 1.0, 1.0, 1.0, 1.0, 1.0, 1.0, 1.0, 1.0, 1.0, 1.0, 1.0, 1.0, 1.0, 1.0, 1.0, 1.0, 1.0, 1.0, 1.0, 1.0, 1.0, 1.0, 1.0, 1.0, 1.0, 1.0, 1.0, 1.0, 1.0, 1.0, 1.0, 1.0, 1.0, 1.0, 1.0, 1.0, 1.0, 1.0, 1.0, 1.0, 1.0, 1.0, 1.0, 1.0, 1.0, 1.0, 1.0, 1.0, 1.0, 1.0, 1.0, 1.0, 1.0, 1.0, 1.0, 1.0, 1.0, 1.0, 1.0, 1.0, 1.0, 1.0, 1.0, 1.0, 1.0, 1.0, 1.0, 1.0, 1.0, 1.0, 1.0, 1.0, 1.0, 1.0, 1.0, 1.0, 1.0, 1.0, 1.0, 1.0, 1.0, 1.0, 1.0, 1.0, 1.0, 1.0, 1.0, 1.0, 1.0, 1.0, 1.0, 1.0, 1.0, 1.0, 1.0, 1.0, 1.0, 1.0, 1.0, 1.0, 1.0, 1.0, 1.0, 1.0, 1.0, 1.0, 1.0, 1.0, 1.0, 1.0, 1.0, 1.0, 1.0, 1.0, 1.0, 1.0, 1.0, 1.0, 1.0, 1.0, 1.0, 1.0, 1.0, 1.0, 1.0, 1.0, 1.0, 1.0, 1.0, 1.0, 1.0, 1.0, 1.0, 1.0, 1.0, 1.0, 1.0, 1.0, 1.0, 1.0, 1.0, 1.0, 1.0, 1.0, 1.0, 1.0, 1.0, 1.0, 1.0, 1.0, 1.0, 1.0, 1.0, 1.0, 1.0, 1.0, 1.0, 1.0], \"z\": [0.0, 0.007778292275574116, 0.03110676446908113, 0.06996080003579706, 0.1242922516132677, 0.19402967943431768, 0.2790787298840178, 0.37932264986891895, 0.4946229309625785, 0.6248200757097233, 0.7697344770450675, 0.9291674005397268, 1.102902058150594, 1.2907047613319722, 1.4923261407836952, 1.7075024197588484, 1.935956727733626, 2.1774004413425674, 2.4315345397899217, 2.69805096244326, 2.9766339569763267, 3.266961407229497, 3.5687061308715777, 3.881537137949036, 4.205120842470967, 4.539122220274706, 4.883205907523453, 5.237037235281976, 5.600283196679803, 5.9726133441869065, 6.353700615481117, 6.7432220872687285, 7.140859657222335, 7.546300654917622, 7.959238383281338, 8.379372592605312, 8.806409889637806, 9.240064084636844, 9.680056479564634, 10.126116100823168, 10.577979880084742, 11.035392786863632, 11.498107916513453, 11.965886537325465, 12.438498100352767, 12.915720215500395, 13.397338597308025, 13.88314698371513, 14.372947030944411, 14.866548187471285, 15.363767549870618, 15.864429703149488, 16.368366547989968, 16.87541711714163, 17.385427383021504, 17.898250058401818, 18.41374439189419, 18.93177595977448, 19.452216455535623, 19.974943478407944, 20.4998403219469, 21.0267957636582, 21.555703856509403, 22.086463723065012, 22.618979352879304, 23.153159403686818, 23.688917006844306, 24.226169577400018, 24.764838629095607, 25.30484959454239, 25.846131650756988, 26.38861755019059, 26.932243457341198, 27.47694879099857, 28.02267607213675, 28.569370777438827, 29.116981198412123, 29.665458306029574, 30.21475562081387, 30.76482908826437, 31.315636959513697, 31.86713967708951, 32.41929976564814, 32.972081727539766, 33.525451943059394, 34.079378575234145, 34.633831478995084, 35.18878211457982, 35.744203465012696, 36.30006995750895, 36.85635738865121, 37.41304285318818, 37.97010467630781, 38.52752234924024, 39.08527646804895, 39.643348675471984, 40.201721605679005, 40.760378831813796, 41.31930481619576, 41.878484863058404, 42.43790507370675, 42.99755230397995, 43.55741412390957, 44.117478779468286, 44.677735156307946, 45.23817274538961, 45.798781610413116, 46.3595523569565, 46.92047610324065, 47.48154445243707, 48.04274946644159, 48.60408364103919, 49.16553988238929, 49.72711148476385, 50.28879210947389, 50.85057576492294, 51.41245678772921, 51.974429824860685, 52.53648981673039, 53.0986319812014, 53.660851798454075, 54.22314499666982, 54.78550753848828, 55.34793560819735, 55.91042559961667, 56.47297410463787, 57.03557790238678, 57.59823394897406, 58.160939367803046, 58.72369144040472, 59.28648759777168, 59.84932541216426, 60.412202589363226, 60.975116961345215, 61.53806647935791, 62.101049207373435, 62.664063315899455, 63.22710707612865, 63.79017885440822, 64.35327710701199, 64.91640037519883, 65.4795472805415, 66.04271652051165, 66.6059068643067, 67.16911714890556, 67.73234627534055, 68.29559320517407, 68.85885695716837, 69.42213660413839, 69.98543126997714, 70.54874012684462, 71.11206239251109, 71.67539732784637, 72.23874423444694, 72.80210245239375, 73.36547135813308, 73.92885036247395, 74.49223890869574, 75.05563647075978, 75.61904255161951, 76.18245668162339, 76.74587841700581, 77.30930733846101, 77.87274304979559, 78.436185176655, 78.99963336532028, 79.563087281571, 80.12654660961087, 80.69001105105234, 81.25348032395738, 81.81695416193078, 82.38043231326365, 82.94391454012394, 83.50740061779162, 84.07089033393603, 84.63438348793288, 85.19787989021906, 85.76137936168287, 86.32488173308803, 86.8883868445291, 87.45189454491727, 88.0154046914942, 88.57891714937301, 89.14243179110399, 89.70594849626491, 90.2694671510733, 90.83298764802076, 91.39650988552664, 91.96003376761145, 92.52355920358814, 93.08708610777005, 93.65061439919536, 94.21414400136663, 94.77767484200452, 95.3412068528153, 95.90473996927116, 96.46827413040228, 97.03180927860107, 97.59534535943644, 98.15888232147877, 98.72242011613449, 99.2859586974895, 99.84949802216171, 100.41303804916113, 100.97657873975812, 101.54012005735876, 102.10366196738704, 102.66720443717358, 103.23074743585056, 103.79429093425236, 104.35783490482159, 104.92137932152052, 105.4849241597473, 106.04846939625669, 106.61201500908527, 107.17556097748087, 107.73910728183563, 108.30265390362294, 108.86620082533791, 109.42974803044086, 109.9932955033043, 110.55684322916241, 111.1203911940637, 111.68393938482602, 112.24748778899414, 112.81103639479969, 113.37458519112322, 113.93813416745856, 114.5016833138788, 115.06523262100457, 115.6287820799736, 116.19233168241242, 116.75588142040928, 117.31943128648876, 117.88298127358765, 118.44653137503221, 119.01008158451685, 119.57363189608354, 120.13718230410294, 120.70073280325606, 121.26428338851728, 121.82783405513813, 122.39138479863192, 122.95493561475945, 123.5184864995153, 124.08203744911488, 124.64558845998236, 125.20913952873906, 125.77269065219258, 126.33624182732667, 126.89979305129135, 127.46334432139385]}],\n",
       "                        {\"autosize\": false, \"height\": 800, \"scene\": {\"camera\": {\"center\": {\"x\": 0, \"y\": 0, \"z\": 0}, \"eye\": {\"x\": 2, \"y\": 2, \"z\": 0.1}, \"up\": {\"x\": 0, \"y\": 0, \"z\": 1}}, \"xaxis\": {\"backgroundcolor\": \"rgb(220, 220, 220)\", \"gridcolor\": \"rgb(255, 255, 255)\", \"range\": [-10, 10], \"showbackground\": true, \"zerolinecolor\": \"rgb(255, 0, 0)\"}, \"yaxis\": {\"backgroundcolor\": \"rgb(220, 220, 220)\", \"color\": \"green\", \"gridcolor\": \"rgb(255, 255, 255)\", \"range\": [-10, 10], \"showbackground\": true, \"zerolinecolor\": \"rgb(255, 0, 0)\"}, \"zaxis\": {\"backgroundcolor\": \"rgb(180, 180, 180)\", \"color\": \"blue\", \"gridcolor\": \"rgb(255, 255, 255)\", \"range\": [0, 120], \"showbackground\": true, \"zerolinecolor\": \"rgb(255, 0, 0)\"}}, \"title\": {\"text\": \"DDPG Trajectory\"}, \"width\": 800},\n",
       "                        {\"showLink\": false, \"linkText\": \"Export to plot.ly\", \"plotlyServerURL\": \"https://plot.ly\", \"responsive\": true}\n",
       "                    ).then(function(){\n",
       "                            \n",
       "var gd = document.getElementById('db32f8b8-b5c1-4794-bf05-9db87d8d8113');\n",
       "var x = new MutationObserver(function (mutations, observer) {{\n",
       "        var display = window.getComputedStyle(gd).display;\n",
       "        if (!display || display === 'none') {{\n",
       "            console.log([gd, 'removed!']);\n",
       "            Plotly.purge(gd);\n",
       "            observer.disconnect();\n",
       "        }}\n",
       "}});\n",
       "\n",
       "// Listen for the removal of the full notebook cells\n",
       "var notebookContainer = gd.closest('#notebook-container');\n",
       "if (notebookContainer) {{\n",
       "    x.observe(notebookContainer, {childList: true});\n",
       "}}\n",
       "\n",
       "// Listen for the clearing of the current output cell\n",
       "var outputEl = gd.closest('.output');\n",
       "if (outputEl) {{\n",
       "    x.observe(outputEl, {childList: true});\n",
       "}}\n",
       "\n",
       "                        })\n",
       "                };\n",
       "                });\n",
       "            </script>\n",
       "        </div>"
      ]
     },
     "metadata": {},
     "output_type": "display_data"
    }
   ],
   "source": [
    "visuals.plot_trajectory_3d('DDPG_VTakeoff_History_0.csv', 'DDPG Trajectory', filename='DDPG Trajectory',\n",
    "                           width=800, height=800, axis_ranges=([-10,10], [-10,10], [0,120]))"
   ]
  },
  {
   "cell_type": "markdown",
   "metadata": {
    "colab_type": "text",
    "collapsed": true,
    "id": "AbhX7eiywiPL"
   },
   "source": [
    "## Reflections\n",
    "\n",
    "**Question 1**: Describe the task that you specified in `task.py`.  How did you design the reward function?\n",
    "\n",
    "**Answer**:\n",
    "\n",
    "The takeoff task is defined in `vtakeoff_task.py`.\n",
    "\n",
    "***Goal***\n",
    "\n",
    "The quadcopter can take off vertically as high as possible within a limited period of time (5s) from any initial position.\n",
    "\n",
    "***State / Observation***\n",
    "\n",
    "At first the state was represented by `task.sim.pose[:3]` (position), `task.sim.pose[3:]` (Euler angles), `task.sim.v` (velocities) and `task.sim.angular_v` (angular velocities). However, I found that the agent could not take off vertically after successful training if the initial position was different from the one used for training. I thought this problem was mainly caused by the position of the state, so I removed `task.sim.pose[:3]` (position) from the state then tried to train the agent again.\n",
    "\n",
    "***Action***\n",
    "\n",
    "The minimum (`action_low`) was changed from 0 to 1 to avoid the \"divide by zero\" error in the simulator.\n",
    "\n",
    "***Reward Function***\n",
    "\n",
    "The reward is defined as the **hyperbolic tangent of $R$**. The purpose of hyperbolic tangent is to scale rewards between -1 and 1 to avoid instability in training due to exploding gradients. $R$ is defnied as below:\n",
    "\n",
    "\\begin{equation*}\n",
    "R=\\begin{cases}\n",
    "-20 & \\text{No Takeoff}\\\\\n",
    "-5 & \\text{Crash}\\\\\n",
    "0.8v_{z} -0.2( |v_{x} |+|v_{y} |) -0.01( |a_{φ} |+|a_{θ} |+|a_{ψ} |) & \\text{Otherwise}\n",
    "\\end{cases}\n",
    "\\end{equation*}\n",
    "\n",
    "where $v$ denotes velocities and  $a$ denotes angular velocities. $v$<sub>*z*</sub> has the highest coefficient since vertical takeoff is what we care about the most. The reward function was inspired by the Humanoid Reward defined in this paper<sup>1</sup>.\n",
    "\n",
    "- **0.8$v$<sub>*z*</sub>:** Return positive reward if the quadcopter flies straight up, otherwise it will return negative value for penalization.\n",
    "- **0.2(|$v$<sub>x</sub>| + |$v$<sub>y</sub>|):** Penalize any x- and y-direction velocities since the goal is to take off vertically.\n",
    "- **0.01(|$a$<sub>φ</sub>| + |$a$<sub>θ</sub>| + |$a$<sub>ψ</sub>|):** Penalize wasting energy on φ, θ and ψ angular velocities.\n",
    "\n",
    "***References***\n",
    "1. [Emergence of Locomotion Behaviours in Rich Environments](https://arxiv.org/abs/1707.02286)"
   ]
  },
  {
   "cell_type": "markdown",
   "metadata": {
    "colab_type": "text",
    "id": "lj0EVAzYwiPN"
   },
   "source": [
    "**Question 2**: Discuss your agent briefly, using the following questions as a guide:\n",
    "\n",
    "- What learning algorithm(s) did you try? What worked best for you?\n",
    "- What was your final choice of hyperparameters (such as $\\alpha$, $\\gamma$, $\\epsilon$, etc.)?\n",
    "- What neural network architecture did you use (if any)? Specify layers, sizes, activation functions, etc.\n",
    "\n",
    "**Answer**:\n",
    "\n",
    "***Learning Algorithm***\n",
    "\n",
    "I only tried the Deep Deterministic Policy Gradient (DDPG)<sup>1</sup> algorithm as it was already able to finish the task. The DDPG agent consists of `ddpg.py`, `replay_buffer.py` and `ou_noise.py`, and original implementation of these components are provied by the Udacity course.\n",
    "\n",
    "***Final Hyperparameters***\n",
    "\n",
    "Most hyperparameters refer to the original DDPG paper<sup>1</sup>.\n",
    "\n",
    "- **Discount factor of $\\gamma$:** 0.99\n",
    "- **Minibatch size:** 64\n",
    "- **Replay buffer size:** 100000\n",
    "- **Soft target update $\\tau$:** 0.1\n",
    "- Ornstein–Uhlenbeck process\n",
    " - **$\\mu$:** 0\n",
    " - **$\\theta$:** 0.15\n",
    " - **$\\sigma$:** 0.2\n",
    "\n",
    "***Neural Network Architecture***\n",
    "\n",
    "The network architectures mostly follow the original DDPG paper<sup>1</sup> as shown in the below two images which were generated by [Netron](https://github.com/lutzroeder/netron). I also used Adam optimizer with a learning rate of 0.0001 and 0.001 for actor and critic respectively. In critic, an extra dense layer of 64 units was added prior to the final output layer, and all hidden layers incorporated L2-regularizer with weight decay of 0.01 for `kernel_regularizer`.\n",
    "\n",
    "****Actor****\n",
    "\n",
    "<a href=\"imgs/ddpg-actor.png\" target=\"_blank\"><img src=\"imgs/ddpg-actor.png\" alt=\"Actor Architecture\" title=\"Actor Architecture\" style=\"max-height:600px;\"></a>\n",
    "\n",
    "****Critic****\n",
    "\n",
    "<a href=\"imgs/ddpg-critic.png\" target=\"_blank\"><img src=\"imgs/ddpg-critic.png\" alt=\"Critic Architecture\" title=\"Critic Architecture\" style=\"max-height:600px;\"></a>\n",
    "\n",
    "**References**:\n",
    "\n",
    "1. [Continuous control with deep reinforcement learning](https://arxiv.org/abs/1509.02971)"
   ]
  },
  {
   "cell_type": "markdown",
   "metadata": {
    "colab_type": "text",
    "id": "P5JL6PiZwiPO"
   },
   "source": [
    "**Question 3**: Using the episode rewards plot, discuss how the agent learned over time.\n",
    "\n",
    "- Was it an easy task to learn or hard?\n",
    "- Was there a gradual learning curve, or an aha moment?\n",
    "- How good was the final performance of the agent? (e.g. mean rewards over the last 10 episodes)\n",
    "\n",
    "**Answer**:\n",
    "\n",
    "- According to the [episode rewards plot](#Plot-the-Rewards), it seems an easy task to learn as the reward reaches a plateau in just a few episodes. However, this was not always the case. Sometimes the agent did not converge on a high reward. Based on a few repeated experiments, the agent could learn the task successfully once in two or three tries.\n",
    "- There was an aha moment because the reward suddenly changed from a small negative value to a high positive value and remained on a high level.\n",
    "- The performance of the agent was excellent. The rewards remain high and stable starting from the early episodes. I have performed three vertical takeoff simulations from different initial positions, and the quadcopter was able to fly straight up in all simulations. [Here](#3D-Trajectory-for-DDPG-Agent) shows the 3D trajectory generated by [plotly](https://plot.ly/) in a simulation."
   ]
  },
  {
   "cell_type": "markdown",
   "metadata": {
    "colab_type": "text",
    "id": "atYLLCmxwiPO"
   },
   "source": [
    "**Question 4**: Briefly summarize your experience working on this project. You can use the following prompts for ideas.\n",
    "\n",
    "- What was the hardest part of the project? (e.g. getting started, plotting, specifying the task, etc.)\n",
    "- Did you find anything interesting in how the quadcopter or your agent behaved?\n",
    "\n",
    "**Answer**:\n",
    "\n",
    "I think this is the most challenging project so far in the ML Engineer Nanodegree Program. I started with reading the origianl DDPG paper to understand more details about the algorithm. To get more sense about how the quadcopter actually flies, I tried to find a 3D simulator which can display the animation of the quadcopter. Unfortunately I didn't find one that is easy to use, so finally decided to utilize [plotly](https://plot.ly/) for plotting the 3D trajectory.\n",
    "\n",
    "Actually I tried to solve the \"reach target positon\" task in the beginning, but after several days of trial and error without seeing a promising solution, I decided to go for the easier task \"vertical takeoff\". Even this task is not easy for the DDPG agent to learn. I think the hardest part of the project is that there are infinite possible combinations of hyperparameters, network architectures and reward functions. Each combination requires a bunch of time to train. Furthermore, you are not sure if DDPG is powerful enough to learn the task or you should resort to other algorithm after a lot of frustrating results. All I can do is refer to the settings of previous literatures, gradually change the settings, and keep reviewing whether my reward function is reasonable.\n",
    "\n",
    "Most people would intuitively know that the best solution of the vertical takeoff task is to set the 4 rotors at max speed all the time, but it's not that easy for the agent to learn. The final agent demonstrated above learned the optimal solution, but in fact I have trained an agent which only set 2 rotors at max speed. The quadcopter can still fly straight up under this condition but slower.\n",
    "\n",
    "Besides keep polishing the reward function, there are two ideas might worth trying to improve the agent.\n",
    "- Use prioritized experience replay instead of only random sampling from memory\n",
    "- Exploration with parameter noise<sup>1</sup> instead of action space noise\n",
    "\n",
    "**References**:\n",
    "\n",
    "1. [Parameter Space Noise for Exploration](https://arxiv.org/abs/1706.01905)"
   ]
  }
 ],
 "metadata": {
  "accelerator": "GPU",
  "colab": {
   "collapsed_sections": [],
   "name": "Quadcopter_Project.ipynb",
   "provenance": [],
   "version": "0.3.2"
  },
  "kernelspec": {
   "display_name": "Python 3",
   "language": "python",
   "name": "python3"
  },
  "language_info": {
   "codemirror_mode": {
    "name": "ipython",
    "version": 3
   },
   "file_extension": ".py",
   "mimetype": "text/x-python",
   "name": "python",
   "nbconvert_exporter": "python",
   "pygments_lexer": "ipython3",
   "version": "3.7.3"
  }
 },
 "nbformat": 4,
 "nbformat_minor": 1
}
